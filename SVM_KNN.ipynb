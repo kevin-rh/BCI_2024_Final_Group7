{
  "nbformat": 4,
  "nbformat_minor": 0,
  "metadata": {
    "colab": {
      "provenance": [],
      "collapsed_sections": [
        "IJ-F_ORoBLN5"
      ]
    },
    "kernelspec": {
      "name": "python3",
      "display_name": "Python 3"
    },
    "language_info": {
      "name": "python"
    }
  },
  "cells": [
    {
      "cell_type": "code",
      "source": [
        "from google.colab import drive\n",
        "drive.mount('/content/drive')"
      ],
      "metadata": {
        "colab": {
          "base_uri": "https://localhost:8080/"
        },
        "id": "fg242Dcu4gG8",
        "outputId": "fe1a684a-5bdc-41f6-b20a-9e5fca47110d"
      },
      "execution_count": null,
      "outputs": [
        {
          "output_type": "stream",
          "name": "stdout",
          "text": [
            "Mounted at /content/drive\n"
          ]
        }
      ]
    },
    {
      "cell_type": "code",
      "source": [
        "!pip install mne"
      ],
      "metadata": {
        "id": "8URr8UtZLHPJ"
      },
      "execution_count": null,
      "outputs": []
    },
    {
      "cell_type": "code",
      "source": [
        "from sklearn.neighbors import KNeighborsClassifier\n",
        "import pandas as pd\n",
        "from sklearn.model_selection import train_test_split\n",
        "from sklearn.svm import SVC\n",
        "from sklearn.metrics import accuracy_score, r2_score, f1_score\n",
        "from sklearn.metrics import mean_absolute_error\n",
        "from sklearn.metrics import mean_squared_error\n",
        "import numpy as np\n",
        "from timeit import default_timer as timer\n",
        "from sklearn.preprocessing import MinMaxScaler\n",
        "import mne\n",
        "import scipy"
      ],
      "metadata": {
        "id": "KzkRHspBLV4k"
      },
      "execution_count": null,
      "outputs": []
    },
    {
      "cell_type": "markdown",
      "source": [
        "# cleaned data"
      ],
      "metadata": {
        "id": "zkYcS_eHBEuR"
      }
    },
    {
      "cell_type": "code",
      "source": [
        "# klo dari drive nathan\n",
        "rawX = np.load('/content/drive/MyDrive/BCI_project/X.npy')\n",
        "rawY = np.load('/content/drive/MyDrive/BCI_project/y.npy')"
      ],
      "metadata": {
        "id": "Atg1WMMPrAV9"
      },
      "execution_count": null,
      "outputs": []
    },
    {
      "cell_type": "code",
      "source": [
        "# X dimesnions: [epochs(878)] [32] [timepoints(21000)]\n",
        "# channels O1 and O2 are probably the last ones based on their order in EEGLab (index 30 and 31)\n",
        "print(len(rawX[0][0]))"
      ],
      "metadata": {
        "colab": {
          "base_uri": "https://localhost:8080/"
        },
        "id": "nj7ZiAdy5mT6",
        "outputId": "8c4131f8-ab93-4f91-8091-d0bbd02b7ada"
      },
      "execution_count": null,
      "outputs": [
        {
          "output_type": "stream",
          "name": "stdout",
          "text": [
            "21000\n"
          ]
        }
      ]
    },
    {
      "cell_type": "code",
      "source": [
        "# extract each channel, now dimensions are 2D [epochs(878)] [timepoints(21000)]\n",
        "o1 = []\n",
        "o2 = []\n",
        "for e in range(len(rawX)):\n",
        "  o1.append(rawX[e][30])\n",
        "  o2.append(rawX[e][31])"
      ],
      "metadata": {
        "id": "qr16Y0VtBUIw"
      },
      "execution_count": null,
      "outputs": []
    },
    {
      "cell_type": "code",
      "source": [
        "print(len(o1[0]))"
      ],
      "metadata": {
        "colab": {
          "base_uri": "https://localhost:8080/"
        },
        "id": "Emcc_IL0BguB",
        "outputId": "0b7c17e0-f6c0-4158-b60f-62d5245c041d"
      },
      "execution_count": null,
      "outputs": [
        {
          "output_type": "stream",
          "name": "stdout",
          "text": [
            "21000\n"
          ]
        }
      ]
    },
    {
      "cell_type": "code",
      "source": [
        "# for some reason the Y was [epochs(878)] [1],\n",
        "# so this just change to [epochs(878)]\n",
        "Y = []\n",
        "for bruh in rawY:\n",
        "  Y.append(bruh[0])"
      ],
      "metadata": {
        "id": "vd3m2X-ACef5"
      },
      "execution_count": null,
      "outputs": []
    },
    {
      "cell_type": "code",
      "source": [
        "Ymap = {\n",
        "    1: 1, 2: 1, 3: 2,\n",
        "    4: 1, 5: 1, 6: 2,\n",
        "    7: 3, 8: 3, 9: 4\n",
        "}\n",
        "\n",
        "for i in range(len(Y)):\n",
        "  Y[i] = Ymap[Y[i]]"
      ],
      "metadata": {
        "id": "UWPoTtZPEOGE"
      },
      "execution_count": null,
      "outputs": []
    },
    {
      "cell_type": "code",
      "source": [
        "def class_balance(Y):\n",
        "  dicc = {}\n",
        "  for i in range(len(Y)):\n",
        "    if Y[i] not in dicc:\n",
        "      dicc[Y[i]] = 0\n",
        "    dicc[Y[i]] += 1\n",
        "\n",
        "  for label in dicc:\n",
        "    print(str(label) + \": \" + str(dicc[label]))"
      ],
      "metadata": {
        "id": "QvjZO__nEqxo"
      },
      "execution_count": null,
      "outputs": []
    },
    {
      "cell_type": "code",
      "source": [
        "class_balance(Y)"
      ],
      "metadata": {
        "colab": {
          "base_uri": "https://localhost:8080/"
        },
        "id": "n7sahrapEr_C",
        "outputId": "7004e23e-961f-4760-a17d-ec9da8718364"
      },
      "execution_count": null,
      "outputs": [
        {
          "output_type": "stream",
          "name": "stdout",
          "text": [
            "1: 408\n",
            "2: 224\n",
            "4: 142\n",
            "3: 104\n"
          ]
        }
      ]
    },
    {
      "cell_type": "markdown",
      "source": [
        "# old data (outdated)"
      ],
      "metadata": {
        "id": "IJ-F_ORoBLN5"
      }
    },
    {
      "cell_type": "code",
      "source": [
        "dat = scipy.io.loadmat(\"/content/S1R1.mat\")\n",
        "dat"
      ],
      "metadata": {
        "id": "kjCrCbgVJkWI"
      },
      "execution_count": null,
      "outputs": []
    },
    {
      "cell_type": "code",
      "source": [
        "# dat [dat] [channel] [time(21000)] [epoch(20)]\n",
        "# 21000 x 20 -> 20 x 21000\n",
        "\n",
        "x1 = []\n",
        "for e in range(20):\n",
        "  temp = []\n",
        "  for t in range(21000):\n",
        "    temp.append(dat['dat'][0][t][e])\n",
        "  x1.append(temp)\n"
      ],
      "metadata": {
        "id": "7-k26BwmOq6M"
      },
      "execution_count": null,
      "outputs": []
    },
    {
      "cell_type": "code",
      "source": [
        "# dat [dat] [channel] [time(21000)] [epoch(20)]\n",
        "# 21000 x 20 -> 20 x 21000\n",
        "\n",
        "x2 = []\n",
        "for e in range(20):\n",
        "  temp = []\n",
        "  for t in range(21000):\n",
        "    temp.append(dat['dat'][1][t][e])\n",
        "  x2.append(temp)\n"
      ],
      "metadata": {
        "id": "vrwKvWz5T53J"
      },
      "execution_count": null,
      "outputs": []
    },
    {
      "cell_type": "code",
      "source": [
        "#avg x2\n",
        "tot2=0\n",
        "for i in x2:\n",
        "  tot2+=i\n"
      ],
      "metadata": {
        "id": "866psVBXbK2N"
      },
      "execution_count": null,
      "outputs": []
    },
    {
      "cell_type": "code",
      "source": [
        "y=[2,4,4,2,2,4,2,4,4,4,3,4,4,2,4,2,3,4,3,4]\n",
        "y2=[2,6,6,2,2,6,2,9,6,9,4,9,9,3,9,3,7,5,7,5]"
      ],
      "metadata": {
        "id": "Ffcq6_SjOCrQ"
      },
      "execution_count": null,
      "outputs": []
    },
    {
      "cell_type": "markdown",
      "source": [
        "# Model Training"
      ],
      "metadata": {
        "id": "f8u_QJh9BQgT"
      }
    },
    {
      "cell_type": "markdown",
      "source": [
        "Channel O1"
      ],
      "metadata": {
        "id": "7bag69qgT1M6"
      }
    },
    {
      "cell_type": "code",
      "source": [
        "x = o1\n",
        "y = Y"
      ],
      "metadata": {
        "id": "Td_KoncgCU5i"
      },
      "execution_count": null,
      "outputs": []
    },
    {
      "cell_type": "code",
      "source": [
        "X_train, X_test, y_train, y_test = train_test_split(x, y, test_size=0.2, random_state=20)\n",
        "svm_model = SVC()\n",
        "svm_model.fit(X_train, y_train)\n",
        "# results\n",
        "Y_pred = svm_model.predict(X_test)\n",
        "meanAbsoluteError = mean_absolute_error(y_test, Y_pred)\n",
        "acc = accuracy_score(y_test,Y_pred)\n",
        "r2 = r2_score(y_test,Y_pred)\n",
        "f1 = f1_score(y_test,Y_pred, average='macro')\n",
        "print(\"F1 score : \",f1)\n",
        "print(\"Mean Abosolute Error : \", meanAbsoluteError)\n",
        "print(\"Accuracy : \", acc)\n",
        "print(\"R2_score: \",r2)\n"
      ],
      "metadata": {
        "id": "8qrpRqi2Ca4G",
        "colab": {
          "base_uri": "https://localhost:8080/"
        },
        "outputId": "a47a79e5-3d13-49ac-e2c1-a9c31bbe94f8"
      },
      "execution_count": null,
      "outputs": [
        {
          "output_type": "stream",
          "name": "stdout",
          "text": [
            "F1 score :  0.15891472868217055\n",
            "Mean Abosolute Error :  0.9545454545454546\n",
            "Accuracy :  0.4659090909090909\n",
            "R2_score:  -0.7723292469352012\n"
          ]
        }
      ]
    },
    {
      "cell_type": "code",
      "source": [
        "X_train, X_test, y_train, y_test = train_test_split(x, y, test_size=0.2, random_state=20)\n",
        "for ne in range(1,6):\n",
        "  print(\"trying \" + str(ne) + \" neighbors\")\n",
        "  knnModel = KNeighborsClassifier(n_neighbors=ne)\n",
        "  knnModel.fit(X_train, y_train)\n",
        "  Y_pred = knnModel.predict(X_test)\n",
        "  meanAbsoluteError = mean_absolute_error(y_test, Y_pred)\n",
        "  acc = accuracy_score(y_test,Y_pred)\n",
        "  r2=r2_score(y_test,Y_pred)\n",
        "  f1 = f1_score(y_test,Y_pred, average='macro')\n",
        "  print(\"F1 score : \",f1)\n",
        "  print(\"Mean Abosolute Error : \", meanAbsoluteError)\n",
        "  print(\"Accuracy : \", acc)\n",
        "  print(\"R2_score: \",r2)\n",
        "  print(\"===================================================\")"
      ],
      "metadata": {
        "id": "FLhA_3HQETFf",
        "colab": {
          "base_uri": "https://localhost:8080/"
        },
        "outputId": "f0eafa72-47a9-4647-b949-015ed8486235"
      },
      "execution_count": null,
      "outputs": [
        {
          "output_type": "stream",
          "name": "stdout",
          "text": [
            "trying 1 neighbors\n",
            "F1 score :  0.21464646464646464\n",
            "Mean Abosolute Error :  1.1875\n",
            "Accuracy :  0.3352272727272727\n",
            "R2_score:  -1.18169877408056\n",
            "===================================================\n",
            "trying 2 neighbors\n",
            "F1 score :  0.20273381078478575\n",
            "Mean Abosolute Error :  1.0397727272727273\n",
            "Accuracy :  0.39204545454545453\n",
            "R2_score:  -0.8445709281961469\n",
            "===================================================\n",
            "trying 3 neighbors\n",
            "F1 score :  0.21370007582427142\n",
            "Mean Abosolute Error :  0.9715909090909091\n",
            "Accuracy :  0.4147727272727273\n",
            "R2_score:  -0.7193520140105076\n",
            "===================================================\n",
            "trying 4 neighbors\n",
            "F1 score :  0.24384920634920634\n",
            "Mean Abosolute Error :  0.9431818181818182\n",
            "Accuracy :  0.42613636363636365\n",
            "R2_score:  -0.647110332749562\n",
            "===================================================\n",
            "trying 5 neighbors\n",
            "F1 score :  0.2696602216191768\n",
            "Mean Abosolute Error :  0.9488636363636364\n",
            "Accuracy :  0.42045454545454547\n",
            "R2_score:  -0.6422942206654989\n",
            "===================================================\n"
          ]
        }
      ]
    },
    {
      "cell_type": "markdown",
      "source": [
        "Channel O2"
      ],
      "metadata": {
        "id": "rEnS7CF8T2jP"
      }
    },
    {
      "cell_type": "code",
      "source": [
        "x = o2\n",
        "y = Y"
      ],
      "metadata": {
        "id": "Tb2-Uvr0CXsB"
      },
      "execution_count": null,
      "outputs": []
    },
    {
      "cell_type": "code",
      "source": [
        "X_train, X_test, y_train, y_test = train_test_split(x, y, test_size=0.2, random_state=20)\n",
        "svm_model = SVC()\n",
        "svm_model.fit(X_train, y_train)\n",
        "# results\n",
        "Y_pred = svm_model.predict(X_test)\n",
        "meanAbsoluteError = mean_absolute_error(y_test, Y_pred)\n",
        "r2=r2_score(y_test,Y_pred)\n",
        "acc = accuracy_score(y_test,Y_pred)\n",
        "f1 = f1_score(y_test,Y_pred, average='macro')\n",
        "print(\"F1 score : \",f1)\n",
        "print(\"Mean Abosolute Error : \", meanAbsoluteError)\n",
        "print(\"R2_score: \",r2)\n",
        "print(\"Accuracy : \", acc)"
      ],
      "metadata": {
        "colab": {
          "base_uri": "https://localhost:8080/"
        },
        "id": "Zzh_9D-nUAAU",
        "outputId": "5b32be0d-8fcb-4ac6-da3f-3218cdc6fe7a"
      },
      "execution_count": null,
      "outputs": [
        {
          "output_type": "stream",
          "name": "stdout",
          "text": [
            "F1 score :  0.15891472868217055\n",
            "Mean Abosolute Error :  0.9545454545454546\n",
            "R2_score:  -0.7723292469352012\n",
            "Accuracy :  0.4659090909090909\n"
          ]
        }
      ]
    },
    {
      "cell_type": "code",
      "source": [
        "X_train, X_test, y_train, y_test = train_test_split(x, y, test_size=0.2, random_state=20)\n",
        "knnModel = KNeighborsClassifier(n_neighbors=1)\n",
        "knnModel.fit(X_train, y_train)\n",
        "Y_pred = knnModel.predict(X_test)\n",
        "meanAbsoluteError = mean_absolute_error(y_test, Y_pred)\n",
        "r2=r2_score(y_test,Y_pred)\n",
        "acc = accuracy_score(y_test,Y_pred)\n",
        "f1 = f1_score(y_test,Y_pred, average='macro')\n",
        "print(\"F1 score : \",f1)\n",
        "print(\"Mean Abosolute Error : \", meanAbsoluteError)\n",
        "print(\"R2_score: \",r2)\n",
        "print(\"Accuracy : \", acc)"
      ],
      "metadata": {
        "colab": {
          "base_uri": "https://localhost:8080/"
        },
        "id": "-fBd54gtUHlh",
        "outputId": "a99f3f8f-e560-469e-9f5c-9c7fcd952a95"
      },
      "execution_count": null,
      "outputs": [
        {
          "output_type": "stream",
          "name": "stdout",
          "text": [
            "F1 score :  0.2310891259577117\n",
            "Mean Abosolute Error :  1.2386363636363635\n",
            "R2_score:  -1.3117338003502623\n",
            "Accuracy :  0.3181818181818182\n"
          ]
        }
      ]
    }
  ]
}