{
  "cells": [
    {
      "cell_type": "markdown",
      "metadata": {
        "id": "36BkQFTtScfe"
      },
      "source": [
        "# Imports"
      ]
    },
    {
      "cell_type": "code",
      "execution_count": null,
      "metadata": {
        "id": "JDtdolTDUFlz"
      },
      "outputs": [],
      "source": [
        "!pip install mne\n",
        "!pip install pyriemann\n",
        "!wget https://raw.githubusercontent.com/vlawhern/arl-eegmodels/master/examples/EEGNet-8-2-weights.h5\n",
        "!wget https://raw.githubusercontent.com/vlawhern/arl-eegmodels/master/EEGModels.py\n",
        "!wget https://raw.githubusercontent.com/NathanJackyLee/BCI/main/checkpoint_clean_unweighted.h5\n",
        "!wget https://raw.githubusercontent.com/NathanJackyLee/BCI/main/checkpoint_clean_weighted.h5\n",
        "!wget https://raw.githubusercontent.com/NathanJackyLee/BCI/main/checkpoint_unweighted.h5\n",
        "!wget https://raw.githubusercontent.com/NathanJackyLee/BCI/main/checkpoint_weighted.h5"
      ]
    },
    {
      "cell_type": "code",
      "execution_count": null,
      "metadata": {
        "id": "_jiiHECnSAlc"
      },
      "outputs": [],
      "source": [
        "import scipy\n",
        "import random\n",
        "import pandas as pd"
      ]
    },
    {
      "cell_type": "code",
      "execution_count": null,
      "metadata": {
        "id": "Qox_ihE7UGtV"
      },
      "outputs": [],
      "source": [
        "import numpy as np\n",
        "from sklearn.metrics import accuracy_score, r2_score, f1_score\n",
        "\n",
        "# mne imports\n",
        "import mne\n",
        "from mne import io\n",
        "from mne.datasets import sample\n",
        "\n",
        "# EEGNet-specific imports\n",
        "from EEGModels import EEGNet\n",
        "from tensorflow.keras import utils as np_utils\n",
        "from tensorflow.keras.callbacks import ModelCheckpoint\n",
        "from tensorflow.keras import backend as K\n",
        "\n",
        "# PyRiemann imports\n",
        "from pyriemann.estimation import XdawnCovariances\n",
        "from pyriemann.tangentspace import TangentSpace\n",
        "# from pyriemann.utils.viz import plot_confusion_matrix\n",
        "from sklearn.pipeline import make_pipeline\n",
        "from sklearn.linear_model import LogisticRegression\n",
        "\n",
        "# tools for plotting confusion matrices\n",
        "from matplotlib import pyplot as plt"
      ]
    },
    {
      "cell_type": "code",
      "execution_count": null,
      "metadata": {
        "id": "f9QM-7Pcf4lz"
      },
      "outputs": [],
      "source": [
        "# class balance of Y\n",
        "\n",
        "def class_balance(Y):\n",
        "  dicc = {}\n",
        "  for i in range(len(Y)):\n",
        "    if Y[i] not in dicc:\n",
        "      dicc[Y[i]] = 0\n",
        "    dicc[Y[i]] += 1\n",
        "\n",
        "  for label in dicc:\n",
        "    print(str(label) + \": \" + str(dicc[label]))\n",
        "\n",
        "def onehot_balance(Y):\n",
        "  leg = len(Y[0])\n",
        "  tally = np.zeros(leg)\n",
        "  for i in range(len(Y)):\n",
        "    tally += Y[i]\n",
        "  print(tally)"
      ]
    },
    {
      "cell_type": "code",
      "execution_count": null,
      "metadata": {
        "id": "qaSZSw0qWjac"
      },
      "outputs": [],
      "source": [
        "channels = 2\n",
        "timepoints = 21000\n",
        "kernels = 1"
      ]
    },
    {
      "cell_type": "markdown",
      "source": [
        "# Cleaned Dataset"
      ],
      "metadata": {
        "id": "X0eUYBJjDsyk"
      }
    },
    {
      "cell_type": "code",
      "source": [
        "from google.colab import drive\n",
        "drive.mount('/content/drive')"
      ],
      "metadata": {
        "id": "IxacDfMPCl5D",
        "colab": {
          "base_uri": "https://localhost:8080/"
        },
        "outputId": "91c613a0-412a-422a-84a8-1ac5584dc095"
      },
      "execution_count": null,
      "outputs": [
        {
          "output_type": "stream",
          "name": "stdout",
          "text": [
            "Mounted at /content/drive\n"
          ]
        }
      ]
    },
    {
      "cell_type": "code",
      "source": [
        "rawX = np.load('/content/drive/MyDrive/BCI_project/X.npy')\n",
        "rawY = np.load('/content/drive/MyDrive/BCI_project/y.npy')"
      ],
      "metadata": {
        "id": "8YRsaDQCD1WT"
      },
      "execution_count": null,
      "outputs": []
    },
    {
      "cell_type": "code",
      "source": [
        "print(len(rawX))\n",
        "print(len(rawX[0]))\n",
        "print(len(rawX[0][0]))"
      ],
      "metadata": {
        "colab": {
          "base_uri": "https://localhost:8080/"
        },
        "id": "0HvvS7DVEu4v",
        "outputId": "3a0164f0-5068-4436-8bb9-8143d15235e0"
      },
      "execution_count": null,
      "outputs": [
        {
          "output_type": "stream",
          "name": "stdout",
          "text": [
            "878\n",
            "32\n",
            "21000\n"
          ]
        }
      ]
    },
    {
      "cell_type": "code",
      "source": [
        "# X dimesnions: [epochs(878)] [32] [timepoints(21000)]\n",
        "# X [epoch(20)] [channel(2)] [time(21000)] [kernels(1)]\n",
        "\n",
        "X = []\n",
        "Y = []\n",
        "for e in range(len(rawX)): # for each epoch in the file\n",
        "  new_epoch = []\n",
        "  for c in [30,31]: # for each channel\n",
        "    new_channel = []\n",
        "    for t in range(21000): # for each timepoint\n",
        "      new_channel.append([rawX[e][c][t]])\n",
        "    new_epoch.append(new_channel)\n",
        "  X.append(new_epoch)\n",
        "\n",
        "Y = []\n",
        "for bruh in rawY:\n",
        "  Y.append(bruh[0])"
      ],
      "metadata": {
        "id": "u7ClntNhEWT6"
      },
      "execution_count": null,
      "outputs": []
    },
    {
      "cell_type": "code",
      "source": [
        "print(len(X))\n",
        "print(len(X[0]))\n",
        "print(len(X[0][0]))\n",
        "print(len(X[0][0][0]))"
      ],
      "metadata": {
        "colab": {
          "base_uri": "https://localhost:8080/"
        },
        "id": "xWEoGI0JDzGZ",
        "outputId": "e44f15df-d92a-43e2-cb40-88fc4975ebba"
      },
      "execution_count": null,
      "outputs": [
        {
          "output_type": "stream",
          "name": "stdout",
          "text": [
            "878\n",
            "2\n",
            "21000\n",
            "1\n"
          ]
        }
      ]
    },
    {
      "cell_type": "code",
      "source": [
        "Ymap = {\n",
        "    1: 0, 2: 0, 3: 1,\n",
        "    4: 0, 5: 0, 6: 1,\n",
        "    7: 2, 8: 2, 9: 3\n",
        "}\n",
        "\n",
        "for i in range(len(Y)):\n",
        "  Y[i] = Ymap[Y[i]]"
      ],
      "metadata": {
        "id": "5hIUlNr1F106"
      },
      "execution_count": null,
      "outputs": []
    },
    {
      "cell_type": "code",
      "source": [
        "class_balance(Y)"
      ],
      "metadata": {
        "colab": {
          "base_uri": "https://localhost:8080/"
        },
        "id": "acJSx5NCGFA4",
        "outputId": "7972594f-d698-455b-bfb9-fb16ff2ae37f"
      },
      "execution_count": null,
      "outputs": [
        {
          "output_type": "stream",
          "name": "stdout",
          "text": [
            "0: 408\n",
            "1: 224\n",
            "3: 142\n",
            "2: 104\n"
          ]
        }
      ]
    },
    {
      "cell_type": "markdown",
      "metadata": {
        "id": "mBUlOPWJSUeH"
      },
      "source": [
        "# Raw (only epoched) dataset"
      ]
    },
    {
      "cell_type": "code",
      "execution_count": null,
      "metadata": {
        "id": "-Q2Zb9NsSD-F"
      },
      "outputs": [],
      "source": [
        "!wget https://raw.githubusercontent.com/NathanJackyLee/BCI/main/S1R1.mat\n",
        "!wget https://raw.githubusercontent.com/NathanJackyLee/BCI/main/S1R2.mat\n",
        "!wget https://raw.githubusercontent.com/NathanJackyLee/BCI/main/S1R3.mat\n",
        "!wget https://raw.githubusercontent.com/NathanJackyLee/BCI/main/S8R1.mat\n",
        "!wget https://raw.githubusercontent.com/NathanJackyLee/BCI/main/S8R2.mat\n",
        "!wget https://raw.githubusercontent.com/NathanJackyLee/BCI/main/S8R3.mat\n",
        "!wget https://raw.githubusercontent.com/NathanJackyLee/BCI/main/S8R4.mat\n",
        "!wget https://raw.githubusercontent.com/NathanJackyLee/BCI/main/S8R5.mat\n",
        "!wget https://raw.githubusercontent.com/NathanJackyLee/BCI/main/S8R6.mat\n",
        "!wget https://raw.githubusercontent.com/NathanJackyLee/BCI/main/S11R1.mat\n",
        "!wget https://raw.githubusercontent.com/NathanJackyLee/BCI/main/S11R2.mat\n",
        "!wget https://raw.githubusercontent.com/NathanJackyLee/BCI/main/S11R3.mat\n",
        "!wget https://raw.githubusercontent.com/NathanJackyLee/BCI/main/S11R4.mat\n",
        "!wget https://raw.githubusercontent.com/NathanJackyLee/BCI/main/S11R5.mat\n",
        "!wget https://raw.githubusercontent.com/NathanJackyLee/BCI/main/S11R6.mat\n",
        "!wget https://raw.githubusercontent.com/NathanJackyLee/BCI/main/S12R1.mat\n",
        "!wget https://raw.githubusercontent.com/NathanJackyLee/BCI/main/S12R2.mat\n",
        "!wget https://raw.githubusercontent.com/NathanJackyLee/BCI/main/S12R3.mat\n",
        "!wget https://raw.githubusercontent.com/NathanJackyLee/BCI/main/S12R4.mat\n",
        "!wget https://raw.githubusercontent.com/NathanJackyLee/BCI/main/S12R5.mat\n",
        "!wget https://raw.githubusercontent.com/NathanJackyLee/BCI/main/S12R6.mat\n",
        "!wget https://raw.githubusercontent.com/NathanJackyLee/BCI/main/S13R1.mat\n",
        "!wget https://raw.githubusercontent.com/NathanJackyLee/BCI/main/S13R2.mat\n",
        "!wget https://raw.githubusercontent.com/NathanJackyLee/BCI/main/S13R3.mat\n",
        "!wget https://raw.githubusercontent.com/NathanJackyLee/BCI/main/S13R4.mat\n",
        "!wget https://raw.githubusercontent.com/NathanJackyLee/BCI/main/S13R5.mat\n",
        "!wget https://raw.githubusercontent.com/NathanJackyLee/BCI/main/S13R6.mat\n",
        "!wget https://raw.githubusercontent.com/NathanJackyLee/BCI/main/S15R1.mat\n",
        "!wget https://raw.githubusercontent.com/NathanJackyLee/BCI/main/S15R2.mat\n",
        "!wget https://raw.githubusercontent.com/NathanJackyLee/BCI/main/S15R3.mat\n",
        "!wget https://raw.githubusercontent.com/NathanJackyLee/BCI/main/S15R4.mat\n",
        "!wget https://raw.githubusercontent.com/NathanJackyLee/BCI/main/S15R5.mat\n",
        "!wget https://raw.githubusercontent.com/NathanJackyLee/BCI/main/S15R6.mat\n",
        "!wget https://raw.githubusercontent.com/NathanJackyLee/BCI/main/S17R1.mat\n",
        "!wget https://raw.githubusercontent.com/NathanJackyLee/BCI/main/S17R2.mat\n",
        "!wget https://raw.githubusercontent.com/NathanJackyLee/BCI/main/S17R3.mat\n",
        "!wget https://raw.githubusercontent.com/NathanJackyLee/BCI/main/S17R4.mat\n",
        "!wget https://raw.githubusercontent.com/NathanJackyLee/BCI/main/S17R5.mat\n",
        "!wget https://raw.githubusercontent.com/NathanJackyLee/BCI/main/S19R1.mat\n",
        "!wget https://raw.githubusercontent.com/NathanJackyLee/BCI/main/S19R2.mat\n",
        "!wget https://raw.githubusercontent.com/NathanJackyLee/BCI/main/S19R3.mat\n",
        "!wget https://raw.githubusercontent.com/NathanJackyLee/BCI/main/S19R4.mat\n",
        "!wget https://raw.githubusercontent.com/NathanJackyLee/BCI/main/S19R5.mat\n",
        "!wget https://raw.githubusercontent.com/NathanJackyLee/BCI/main/S19R6.mat\n",
        "!wget https://raw.githubusercontent.com/NathanJackyLee/BCI/main/labels.csv"
      ]
    },
    {
      "cell_type": "code",
      "execution_count": null,
      "metadata": {
        "id": "r2YesWBjSTtk"
      },
      "outputs": [],
      "source": [
        "rawY = pd.read_csv(\"/content/labels.csv\")\n",
        "rawY = list(rawY['label'])"
      ]
    },
    {
      "cell_type": "code",
      "execution_count": null,
      "metadata": {
        "id": "vpXdysc_Sqq_"
      },
      "outputs": [],
      "source": [
        "# matdat [channel(2)] [time(21000)] [epoch(20)]\n",
        "# X [epoch(20)] [channel(2)] [time(21000)] [kernels(1)]\n",
        "sub = [1,8,11,12,13,15,17,19]\n",
        "runs = [3,6, 6, 6, 6, 6, 5, 6]\n",
        "\n",
        "X = []\n",
        "Y = []\n",
        "filenum = 0\n",
        "yidx = 0\n",
        "for i in range(8):\n",
        "  for j in range(1,runs[i]+1):\n",
        "    # for each file\n",
        "\n",
        "    fname = \"/content/S\" + str(sub[i]) + \"R\" + str(j) + \".mat\"\n",
        "    matdat = scipy.io.loadmat(fname)\n",
        "    matdat = matdat['dat']\n",
        "    print(\"on file S\" + str(sub[i]) + \"R\" + str(j) + \".mat\")\n",
        "\n",
        "    yidx = filenum*20\n",
        "    filenum += 1\n",
        "    for e in range(len(matdat[0][0])): # for each epoch in the file\n",
        "      new_epoch = []\n",
        "      for c in range(2): # for each channel\n",
        "        new_channel = []\n",
        "        for t in range(21000): # for each timepoint\n",
        "          new_channel.append([matdat[c][t][e]])\n",
        "        new_epoch.append(new_channel)\n",
        "      X.append(new_epoch)\n",
        "      # for t in range(21000):\n",
        "      #   bruh = []\n",
        "      #   for c in range(2):\n",
        "      #     bruh.append(matdat[c][t][e])\n",
        "      #   temp[0].append(bruh)\n",
        "      # X.append(temp)\n",
        "\n",
        "      Y.append(rawY[yidx])\n",
        "      yidx += 1"
      ]
    },
    {
      "cell_type": "code",
      "execution_count": null,
      "metadata": {
        "id": "JBthIJfDneEC"
      },
      "outputs": [],
      "source": [
        "Ymap = {\n",
        "    1: 0, 2: 0, 3: 1,\n",
        "    4: 0, 5: 0, 6: 1,\n",
        "    7: 2, 8: 2, 9: 3\n",
        "}\n",
        "\n",
        "for i in range(len(Y)):\n",
        "  Y[i] = Ymap[Y[i]]"
      ]
    },
    {
      "cell_type": "code",
      "execution_count": null,
      "metadata": {
        "colab": {
          "base_uri": "https://localhost:8080/"
        },
        "id": "V9-p9kZlgW2a",
        "outputId": "5e594018-a1ce-4c54-8830-199205210b4e"
      },
      "outputs": [
        {
          "output_type": "stream",
          "name": "stdout",
          "text": [
            "0: 397\n",
            "1: 214\n",
            "3: 154\n",
            "2: 113\n"
          ]
        }
      ],
      "source": [
        "class_balance(Y)"
      ]
    },
    {
      "cell_type": "code",
      "execution_count": null,
      "metadata": {
        "colab": {
          "base_uri": "https://localhost:8080/"
        },
        "id": "Iz8NdhTzZsms",
        "outputId": "4861757a-7224-4254-8c3c-a02c6cb8e1cd"
      },
      "outputs": [
        {
          "name": "stdout",
          "output_type": "stream",
          "text": [
            "1\n"
          ]
        }
      ],
      "source": [
        "print(len(X[0][0][0]))"
      ]
    },
    {
      "cell_type": "code",
      "execution_count": null,
      "metadata": {
        "colab": {
          "base_uri": "https://localhost:8080/"
        },
        "id": "_-Z9I5gvSvKp",
        "outputId": "5a19516d-0079-4fd8-d870-e0382342d53d"
      },
      "outputs": [
        {
          "output_type": "stream",
          "name": "stdout",
          "text": [
            "878 878\n"
          ]
        }
      ],
      "source": [
        "print(len(X),len(Y))"
      ]
    },
    {
      "cell_type": "markdown",
      "source": [
        "# Preparing data for the model"
      ],
      "metadata": {
        "id": "VNR5KbDyGUsv"
      }
    },
    {
      "cell_type": "code",
      "execution_count": null,
      "metadata": {
        "id": "1PcnMrFySv2q"
      },
      "outputs": [],
      "source": [
        "epochs = len(X)\n",
        "gacha = [i for i in range(epochs)]\n",
        "# gacha = random.sample(gacha, int(epochs*0.8))\n",
        "random.shuffle(gacha)\n",
        "\n",
        "q1 = int(epochs * 0.25)\n",
        "q2 = int(epochs * 0.5)\n",
        "q3 = int(epochs * 0.75)\n",
        "\n",
        "gacha_train = gacha[:q2]\n",
        "gacha_val = gacha[q2:q3]\n",
        "gacha_test = gacha[q3:]\n",
        "\n",
        "X_train = []\n",
        "Y_train = []\n",
        "X_val = []\n",
        "Y_val = []\n",
        "X_test = []\n",
        "Y_test = []\n",
        "\n",
        "for i in gacha_train:\n",
        "  X_train.append(X[i])\n",
        "  Y_train.append(Y[i])\n",
        "for i in gacha_val:\n",
        "  X_val.append(X[i])\n",
        "  Y_val.append(Y[i])\n",
        "for i in gacha_test:\n",
        "  X_test.append(X[i])\n",
        "  Y_test.append(Y[i])\n",
        "\n",
        "Y_train = np_utils.to_categorical(Y_train)\n",
        "Y_val = np_utils.to_categorical(Y_val)\n",
        "Y_test = np_utils.to_categorical(Y_test)\n",
        "\n",
        "# X_train = []\n",
        "# Y_train = []\n",
        "# X_val = []\n",
        "# Y_val = []\n",
        "# X_test = []\n",
        "# Y_test = []\n",
        "X_train = np.array(X_train, dtype=np.float32)\n",
        "X_val = np.array(X_val, dtype=np.float32)\n",
        "X_test = np.array(X_test, dtype=np.float32)\n",
        "Y_train = np.array(Y_train, dtype=np.float32)\n",
        "Y_val = np.array(Y_val, dtype=np.float32)\n",
        "Y_test = np.array(Y_test, dtype=np.float32)"
      ]
    },
    {
      "cell_type": "code",
      "execution_count": null,
      "metadata": {
        "colab": {
          "base_uri": "https://localhost:8080/"
        },
        "id": "1P9Z6Z7sqfFi",
        "outputId": "aae94759-536a-4edb-cbb3-0b6728239878"
      },
      "outputs": [
        {
          "output_type": "stream",
          "name": "stdout",
          "text": [
            "[203. 113.  52.  71.]\n",
            "[108.  52.  25.  34.]\n",
            "[97. 59. 27. 37.]\n"
          ]
        }
      ],
      "source": [
        "onehot_balance(Y_train)\n",
        "onehot_balance(Y_val)\n",
        "onehot_balance(Y_test)"
      ]
    },
    {
      "cell_type": "code",
      "execution_count": null,
      "metadata": {
        "colab": {
          "base_uri": "https://localhost:8080/"
        },
        "id": "vwo-7CvpcKV3",
        "outputId": "e9247a70-d818-451c-a5c4-4401159034df"
      },
      "outputs": [
        {
          "name": "stdout",
          "output_type": "stream",
          "text": [
            "220\n"
          ]
        }
      ],
      "source": [
        "print(len(Y_test))"
      ]
    },
    {
      "cell_type": "markdown",
      "metadata": {
        "id": "fKbTvBsMSfzo"
      },
      "source": [
        "# Model"
      ]
    },
    {
      "cell_type": "code",
      "execution_count": null,
      "metadata": {
        "id": "Opg2wma0SZCO"
      },
      "outputs": [],
      "source": [
        "# configure the EEGNet-8,2,16 model with kernel length of 32 samples (other\n",
        "# model configurations may do better, but this is a good starting point)\n",
        "model = EEGNet(nb_classes = 4, Chans = channels, Samples = timepoints,\n",
        "               dropoutRate = 0.5, kernLength = 32, F1 = 8, D = 2, F2 = 16,\n",
        "               dropoutType = 'Dropout')"
      ]
    },
    {
      "cell_type": "code",
      "execution_count": null,
      "metadata": {
        "id": "tzLWlUSPeiNz"
      },
      "outputs": [],
      "source": [
        "# compile the model and set the optimizers\n",
        "model.compile(loss='categorical_crossentropy', optimizer='adam',\n",
        "              metrics = ['accuracy'])"
      ]
    },
    {
      "cell_type": "code",
      "execution_count": null,
      "metadata": {
        "colab": {
          "base_uri": "https://localhost:8080/"
        },
        "id": "KZ6H67XGemHP",
        "outputId": "22c72536-b5f3-45a6-ed0b-66be9979e899"
      },
      "outputs": [
        {
          "output_type": "stream",
          "name": "stdout",
          "text": [
            "42948\n"
          ]
        }
      ],
      "source": [
        "# count number of parameters in the model\n",
        "numParams    = model.count_params()\n",
        "print(numParams)"
      ]
    },
    {
      "cell_type": "code",
      "execution_count": null,
      "metadata": {
        "id": "bghGtg1ResE0"
      },
      "outputs": [],
      "source": [
        "# set a valid path for your system to record model checkpoints\n",
        "checkpointer = ModelCheckpoint(filepath='/content/checkpoint_clean_weighted.h5', verbose=1,\n",
        "                               save_best_only=True)"
      ]
    },
    {
      "cell_type": "code",
      "execution_count": null,
      "metadata": {
        "id": "3ntjY1sfe2SM"
      },
      "outputs": [],
      "source": [
        "#can use class weights for imbalanced datasets\n",
        "class_weights = {\n",
        "    0: 1,\n",
        "    1: 1.9,\n",
        "    2: 3.6,\n",
        "    3: 2.6\n",
        "}\n",
        "\n",
        "fittedModel = model.fit(X_train, Y_train, batch_size = 16, epochs = 300,\n",
        "                        verbose = 2, validation_data=(X_val, Y_val),\n",
        "                        callbacks=[checkpointer], class_weight = class_weights)\n",
        "\n",
        "# Standard way\n",
        "# fittedModel = model.fit(X_train, Y_train, batch_size = 16, epochs = 300,\n",
        "#                         verbose = 2, validation_data=(X_val, Y_val),\n",
        "#                         callbacks=[checkpointer])"
      ]
    },
    {
      "cell_type": "code",
      "execution_count": null,
      "metadata": {
        "id": "ji5z-S4me2-2"
      },
      "outputs": [],
      "source": [
        "### this is for raw weighted\n",
        "# WEIGHTS_PATH = '/content/checkpoint_weighted.h5'\n",
        "# model.load_weights(WEIGHTS_PATH)\n",
        "\n",
        "### this is for raw unweighted\n",
        "# WEIGHTS_PATH = '/content/checkpoint_unweighted.h5'\n",
        "# model.load_weights(WEIGHTS_PATH)\n",
        "\n",
        "### this is for clean unweighted\n",
        "# WEIGHTS_PATH = '/content/checkpoint_clean_unweighted.h5'\n",
        "# model.load_weights(WEIGHTS_PATH)\n",
        "\n",
        "### this is for clean unweighted\n",
        "# WEIGHTS_PATH = '/content/checkpoint_clean_unweighted.h5'\n",
        "# model.load_weights(WEIGHTS_PATH)"
      ]
    },
    {
      "cell_type": "code",
      "source": [
        "XX = np.array(X, dtype=np.float32)"
      ],
      "metadata": {
        "id": "2eIm0oMgrc8f"
      },
      "execution_count": null,
      "outputs": []
    },
    {
      "cell_type": "code",
      "source": [
        "YY = np_utils.to_categorical(Y)"
      ],
      "metadata": {
        "id": "vepSPuPos0Pq"
      },
      "execution_count": null,
      "outputs": []
    },
    {
      "cell_type": "code",
      "execution_count": null,
      "metadata": {
        "colab": {
          "base_uri": "https://localhost:8080/"
        },
        "id": "17XUGce1f2TX",
        "outputId": "3d3551f7-b2d0-4fee-d54b-a4e4ce3ab81b"
      },
      "outputs": [
        {
          "output_type": "stream",
          "name": "stdout",
          "text": [
            "28/28 [==============================] - 0s 11ms/step\n"
          ]
        }
      ],
      "source": [
        "probs       = model.predict(XX)\n",
        "preds       = probs.argmax(axis = -1)"
      ]
    },
    {
      "cell_type": "code",
      "execution_count": null,
      "metadata": {
        "colab": {
          "base_uri": "https://localhost:8080/"
        },
        "id": "6lrQxlnkqE8_",
        "outputId": "0beff9da-2041-4112-c9e4-9c886e7e2f42"
      },
      "outputs": [
        {
          "output_type": "execute_result",
          "data": {
            "text/plain": [
              "878"
            ]
          },
          "metadata": {},
          "execution_count": 27
        }
      ],
      "source": [
        "len(preds)"
      ]
    },
    {
      "cell_type": "code",
      "source": [
        "actual = YY.argmax(axis = -1)"
      ],
      "metadata": {
        "id": "ZiOPOhjusd0E"
      },
      "execution_count": null,
      "outputs": []
    },
    {
      "cell_type": "code",
      "source": [
        "acc = accuracy_score(actual,preds)\n",
        "f1 = f1_score(actual,preds,average='macro')\n",
        "print(\"Accuracy: \",acc)\n",
        "print(\"F1-score: \",f1)"
      ],
      "metadata": {
        "colab": {
          "base_uri": "https://localhost:8080/"
        },
        "id": "f-GXPAvL7v0N",
        "outputId": "63c5d6b0-481c-435d-d5a9-fc53bc21ddb4"
      },
      "execution_count": null,
      "outputs": [
        {
          "output_type": "stream",
          "name": "stdout",
          "text": [
            "Accuracy:  0.6343963553530751\n",
            "F1-score:  0.6073879802748562\n"
          ]
        }
      ]
    },
    {
      "cell_type": "code",
      "source": [
        "confmat = [[0 for i in range(4)] for j in range(4)]"
      ],
      "metadata": {
        "id": "2O0IXgz2tebM"
      },
      "execution_count": null,
      "outputs": []
    },
    {
      "cell_type": "code",
      "source": [
        "confmat"
      ],
      "metadata": {
        "colab": {
          "base_uri": "https://localhost:8080/"
        },
        "id": "vLrhkxZltlsK",
        "outputId": "7c30a5da-08f9-4d29-f437-2fafe882c1cd"
      },
      "execution_count": null,
      "outputs": [
        {
          "output_type": "execute_result",
          "data": {
            "text/plain": [
              "[[0, 0, 0, 0], [0, 0, 0, 0], [0, 0, 0, 0], [0, 0, 0, 0]]"
            ]
          },
          "metadata": {},
          "execution_count": 26
        }
      ]
    },
    {
      "cell_type": "code",
      "source": [
        "hits = 0\n",
        "for a,b in zip(preds,actual):\n",
        "  confmat[a][b] += 1\n",
        "  # if a == b:\n",
        "  #   hits += 1"
      ],
      "metadata": {
        "id": "bgYidU5hrowu"
      },
      "execution_count": null,
      "outputs": []
    },
    {
      "cell_type": "code",
      "source": [
        "for row in confmat:\n",
        "  print(row)"
      ],
      "metadata": {
        "colab": {
          "base_uri": "https://localhost:8080/"
        },
        "id": "J-xYPBPkt1jx",
        "outputId": "77ea34de-a0fe-4970-a85c-279f73c68272"
      },
      "execution_count": null,
      "outputs": [
        {
          "output_type": "stream",
          "name": "stdout",
          "text": [
            "[295, 72, 34, 45]\n",
            "[35, 113, 11, 12]\n",
            "[36, 15, 58, 10]\n",
            "[31, 14, 10, 87]\n"
          ]
        }
      ]
    }
  ],
  "metadata": {
    "colab": {
      "provenance": [],
      "collapsed_sections": [
        "mBUlOPWJSUeH"
      ]
    },
    "kernelspec": {
      "display_name": "Python 3",
      "name": "python3"
    },
    "language_info": {
      "name": "python"
    }
  },
  "nbformat": 4,
  "nbformat_minor": 0
}